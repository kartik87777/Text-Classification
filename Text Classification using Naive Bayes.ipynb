{
 "cells": [
  {
   "cell_type": "markdown",
   "metadata": {},
   "source": [
    "# Text Classification using Multinomial Naive Bayes Algorithm"
   ]
  },
  {
   "cell_type": "markdown",
   "metadata": {},
   "source": [
    "One place where multinomial naive Bayes is often used is in text classification, where the features are related to word counts or frequencies within the documents to be classified.Here we will use the sparse word count features from the 20 Newsgroups corpus to show how we might classify these short documents into categories."
   ]
  },
  {
   "cell_type": "code",
   "execution_count": 1,
   "metadata": {},
   "outputs": [],
   "source": [
    "# Downloading and describing the dataset\n",
    "from sklearn.datasets import fetch_20newsgroups\n",
    "text_data= fetch_20newsgroups()"
   ]
  },
  {
   "cell_type": "code",
   "execution_count": 5,
   "metadata": {},
   "outputs": [
    {
     "name": "stdout",
     "output_type": "stream",
     "text": [
      "Keys : \n",
      "dict_keys(['data', 'filenames', 'target_names', 'target', 'DESCR'])\n"
     ]
    },
    {
     "data": {
      "text/plain": [
       "['alt.atheism',\n",
       " 'comp.graphics',\n",
       " 'comp.os.ms-windows.misc',\n",
       " 'comp.sys.ibm.pc.hardware',\n",
       " 'comp.sys.mac.hardware',\n",
       " 'comp.windows.x',\n",
       " 'misc.forsale',\n",
       " 'rec.autos',\n",
       " 'rec.motorcycles',\n",
       " 'rec.sport.baseball',\n",
       " 'rec.sport.hockey',\n",
       " 'sci.crypt',\n",
       " 'sci.electronics',\n",
       " 'sci.med',\n",
       " 'sci.space',\n",
       " 'soc.religion.christian',\n",
       " 'talk.politics.guns',\n",
       " 'talk.politics.mideast',\n",
       " 'talk.politics.misc',\n",
       " 'talk.religion.misc']"
      ]
     },
     "execution_count": 5,
     "metadata": {},
     "output_type": "execute_result"
    }
   ],
   "source": [
    "print(\"Keys : \\n{}\".format(text_data.keys()))\n",
    "text_data.target_names"
   ]
  },
  {
   "cell_type": "code",
   "execution_count": 9,
   "metadata": {},
   "outputs": [
    {
     "data": {
      "text/plain": [
       "[\"From: lerxst@wam.umd.edu (where's my thing)\\nSubject: WHAT car is this!?\\nNntp-Posting-Host: rac3.wam.umd.edu\\nOrganization: University of Maryland, College Park\\nLines: 15\\n\\n I was wondering if anyone out there could enlighten me on this car I saw\\nthe other day. It was a 2-door sports car, looked to be from the late 60s/\\nearly 70s. It was called a Bricklin. The doors were really small. In addition,\\nthe front bumper was separate from the rest of the body. This is \\nall I know. If anyone can tellme a model name, engine specs, years\\nof production, where this car is made, history, or whatever info you\\nhave on this funky looking car, please e-mail.\\n\\nThanks,\\n- IL\\n   ---- brought to you by your neighborhood Lerxst ----\\n\\n\\n\\n\\n\"]"
      ]
     },
     "execution_count": 9,
     "metadata": {},
     "output_type": "execute_result"
    }
   ],
   "source": [
    "text_data.data[:1]"
   ]
  },
  {
   "cell_type": "code",
   "execution_count": 13,
   "metadata": {},
   "outputs": [
    {
     "name": "stdout",
     "output_type": "stream",
     "text": [
      "From: kenh@sail.LABS.TEK.COM (Ken Hillen)\n",
      "Subject: RF data transmission\n",
      "Article-I.D.: sail.13601\n",
      "Distribution: usa\n",
      "Organization: Tektronix Inc., Beaverton, Or.\n",
      "Lines: 10\n",
      "\n",
      "I need a off-the-shelf method of transmitting small amounts of data up to\n",
      "300 feet.  The data is low speed and can be encoded as needed.  Low power\n",
      "on the transmitting end would be a plus.  An FCC certified product would\n",
      "be prefered.\n",
      "\n",
      "If you have any pointers to products or companies I'd appreciate hearing from\n",
      "you.\n",
      "\n",
      "Thanks,\n",
      "Ken\n",
      "\n",
      "From: pyron@skndiv.dseg.ti.com (Dillon Pyron)\n",
      "Subject: Re: What planets are habitable\n",
      "Lines: 32\n",
      "Nntp-Posting-Host: skndiv.dseg.ti.com\n",
      "Reply-To: pyron@skndiv.dseg.ti.com\n",
      "Organization: TI/DSEG VAX Support\n",
      "\n",
      "\n",
      "In article <C6Az8z.pD@zoo.toronto.edu>, henry@zoo.toronto.edu (Henry Spencer) writes:\n",
      ">In article <1rpt1v$q5h@hsc.usc.edu> khayash@hsc.usc.edu (Ken Hayashida) writes:\n",
      ">>As for human tolerances, the best example of human endurance in terms\n",
      ">>of altitude (i.e. low atmospheric pressure and lower oxygen partial pressure)\n",
      ">>is in my opinion to the scaling of Mt. Everest without oxygen assistance...\n",
      ">>... This is quite a feat of physiological endurance...\n",
      ">\n",
      ">Indeed so; it's at the extreme limit of what is humanly possible.  It is\n",
      ">possible only because Mount Everest is at a fairly low latitude:  there\n",
      ">is a slight equatorial bulge in the atmosphere -- beyond what is induced\n",
      ">by the Earth's rotation -- thanks to the overall circulation pattern of\n",
      ">the atmosphere (air cools at poles and descends, flowing back to equator\n",
      ">where it is warmed and rises), and this helps just enough to make Everest-\n",
      ">without-oxygen feasible.  Only just feasible, mind you:  the guys who did\n",
      ">it reported hallucinations and other indications of oxygen starvation,\n",
      ">and probably incurred some permanent brain damage.\n",
      "\n",
      "Climbers regard 8000 metres and up as \"The Death Zone\".  Even on 100% Oxygen,\n",
      "you are slowly dying.  At 8848m (Everest), most climbers spend only a short\n",
      "period of time before descending.  I've been above 8000 once.  Descending as\n",
      "little as 300m feels like walking into a jungle, the air is so thick.  Everest\n",
      "in winter without oxygen, no support party (Alpine style).  That is the\n",
      "\"ultimate challenge\" (or is it solo?)\n",
      "--\n",
      "Dillon Pyron                      | The opinions expressed are those of the\n",
      "TI/DSEG Lewisville VAX Support    | sender unless otherwise stated.\n",
      "(214)462-3556 (when I'm here)     |\n",
      "(214)492-4656 (when I'm home)     |Texans: Vote NO on Robin Hood.  We need\n",
      "pyron@skndiv.dseg.ti.com          |solutions, not gestures.\n",
      "PADI DM-54909                     |\n",
      "\n",
      "\n"
     ]
    }
   ],
   "source": [
    "#We will select just a few of these categories, and download the training and testing set:\n",
    "categories= ['sci.electronics', 'comp.windows.x', 'sci.space','rec.sport.hockey','rec.motorcycles','rec.sport.baseball']\n",
    "train = fetch_20newsgroups(subset='train',categories= categories)\n",
    "test = fetch_20newsgroups(subset='test',categories=categories)\n",
    "print(train.data[10])\n",
    "print(test.data[10])"
   ]
  },
  {
   "cell_type": "markdown",
   "metadata": {},
   "source": [
    "### In order to use this data for machine learning, we need to be able to convert the content of each string into a vector of numbers. For this we will use the TF-IDF vectorizer and create a pipeline that attaches it to a multinomial naive Bayes classifier:"
   ]
  },
  {
   "cell_type": "code",
   "execution_count": 14,
   "metadata": {},
   "outputs": [],
   "source": [
    "from sklearn.feature_extraction.text import TfidfVectorizer\n",
    "from sklearn.naive_bayes import MultinomialNB\n",
    "from sklearn.pipeline import make_pipeline\n",
    "\n",
    "model = make_pipeline(TfidfVectorizer(), MultinomialNB())"
   ]
  },
  {
   "cell_type": "code",
   "execution_count": 15,
   "metadata": {},
   "outputs": [],
   "source": [
    "model.fit(train.data,train.target)\n",
    "labels=model.predict(test.data)"
   ]
  },
  {
   "cell_type": "code",
   "execution_count": 17,
   "metadata": {},
   "outputs": [
    {
     "data": {
      "image/png": "[encoded data removed]",
      "text/plain": [
       "<Figure size 432x288 with 2 Axes>"
      ]
     },
     "metadata": {
      "needs_background": "light"
     },
     "output_type": "display_data"
    }
   ],
   "source": [
    "from sklearn.metrics import confusion_matrix\n",
    "import seaborn as sns\n",
    "import matplotlib.pyplot as plt\n",
    "mat = confusion_matrix(test.target, labels)\n",
    "sns.heatmap(mat.T, square=True, annot=True, fmt='d', cbar=True, cmap=\"YlGnBu\",vmin=3,vmax=8,\n",
    "            xticklabels=train.target_names, yticklabels=train.target_names)\n",
    "plt.xlabel('true label')\n",
    "plt.ylabel('predicted label')\n",
    "plt.show()"
   ]
  },
  {
   "cell_type": "markdown",
   "metadata": {},
   "source": [
    "### It can be seen that the classifier has worked properly except for baseball and hockey as both fall in the same category that is sports"
   ]
  },
  {
   "cell_type": "markdown",
   "metadata": {},
   "source": [
    "# Lets try to predict a class of random text"
   ]
  },
  {
   "cell_type": "code",
   "execution_count": 18,
   "metadata": {},
   "outputs": [],
   "source": [
    "def predict_category(s, train=train, model=model):\n",
    "    pred = model.predict([s])\n",
    "    return train.target_names[pred[0]]"
   ]
  },
  {
   "cell_type": "code",
   "execution_count": 38,
   "metadata": {},
   "outputs": [
    {
     "data": {
      "text/plain": [
       "'rec.sport.baseball'"
      ]
     },
     "execution_count": 38,
     "metadata": {},
     "output_type": "execute_result"
    }
   ],
   "source": [
    "predict_category(\"glove\")"
   ]
  },
  {
   "cell_type": "code",
   "execution_count": 43,
   "metadata": {},
   "outputs": [
    {
     "data": {
      "text/plain": [
       "'comp.windows.x'"
      ]
     },
     "execution_count": 43,
     "metadata": {},
     "output_type": "execute_result"
    }
   ],
   "source": [
    "predict_category(\"I love to code\")"
   ]
  }
 ],
 "metadata": {
  "kernelspec": {
   "display_name": "Python 3",
   "language": "python",
   "name": "python3"
  },
  "language_info": {
   "codemirror_mode": {
    "name": "ipython",
    "version": 3
   },
   "file_extension": ".py",
   "mimetype": "text/x-python",
   "name": "python",
   "nbconvert_exporter": "python",
   "pygments_lexer": "ipython3",
   "version": "3.7.1"
  }
 },
 "nbformat": 4,
 "nbformat_minor": 2
}
